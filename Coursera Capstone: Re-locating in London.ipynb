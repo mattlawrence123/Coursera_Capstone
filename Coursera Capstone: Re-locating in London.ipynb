{
    "cells": [
        {
            "metadata": {
                "collapsed": true
            },
            "cell_type": "markdown",
            "source": "# Re-locating in London\n### Coursera Capstone Project \nMatthew Lawrence"
        },
        {
            "metadata": {},
            "cell_type": "markdown",
            "source": "The code in this notebook is used to determine the similarity of the London boroughs with regards to their top venues/amenities. This can be used to provide an indication as to the similarity of London boroughs and therefore inform resident re-location decision making.\n\nThe different sections to this notebook are as follows:\n\n* Problem Statement and background discussion\n\n* Description of the data"
        },
        {
            "metadata": {},
            "cell_type": "markdown",
            "source": "### Problem Statement and background discussion\nRenting in London is expensive, fast-paced and often confusing. The rental market is challenging, primarily due to the fact that properties are advertised and let in such a short period of time. This makes it challenging for tenants and in many cases tenants have to make quick decisions on whether they would like to view a property.\n\nLondon is diverse, international and multicultural city with many different communities and neighbourhoods. Distinct differences can also be seen between the various boroughs in the city. Prior to 1985, the Greater London Council acted as a single administrative body for the London area. However after it was abolished in 1985, additional power was devolved to the London boroughs. As a result, the London boroughs have significant character variation and this can be evidenced in the number, spread and type of venues in each.\n\nFor individuals living in London and looking to change locale, the borough in which they live is an important feature. In many cases, knowledge of these boroughs is poor and individuals run the risk of moving to a borough where they are not satisfied with local ammenities and services.\n\nTherefore, the problem statement can be summed up as 'tenants in London lack knowledge of how other boroughs compare to the one in which they live, which makes re-locating across borough boundaries difficult'.",
            "attachments": {}
        },
        {
            "metadata": {},
            "cell_type": "markdown",
            "source": "### Description of the data\n\nTo provide some findings to shed some light on the problem described, data will be needed. This will be formed of two key sources.\n\nFirstly, London borough data will be needed to provide the names of the boroughs and their centre-point coordinates. This will form the basis of the data frame used to undertake clustering for the boroughs and is essential as we will need a list of borough names to identify boroughs in the resulting clusters.\n\nSecondly, venue data from Foursquare will be required. The explore function will be used with the Foursquare API to obtain a list of venues within a certain radius of the boroughs centre-point coordinates. It is by obtaining this venue data (for each borough) that I will be able to build up a picture of how similar the boroughs are based on the venues within them.\n\nPrior to clustering and analysis, data on the London boroughs and the Foursquare location data will have to be merged.",
            "attachments": {}
        },
        {
            "metadata": {},
            "cell_type": "code",
            "source": "",
            "execution_count": null,
            "outputs": []
        }
    ],
    "metadata": {
        "kernelspec": {
            "name": "python3",
            "display_name": "Python 3.6",
            "language": "python"
        },
        "language_info": {
            "name": "python",
            "version": "3.6.9",
            "mimetype": "text/x-python",
            "codemirror_mode": {
                "name": "ipython",
                "version": 3
            },
            "pygments_lexer": "ipython3",
            "nbconvert_exporter": "python",
            "file_extension": ".py"
        }
    },
    "nbformat": 4,
    "nbformat_minor": 1
}