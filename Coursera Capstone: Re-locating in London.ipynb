{
    "cells": [
        {
            "cell_type": "markdown",
            "metadata": {
                "collapsed": true
            },
            "source": "# Re-locating in London\n### Coursera Capstone Project \nMatthew Lawrence"
        },
        {
            "cell_type": "markdown",
            "metadata": {},
            "source": "The code in this notebook is used to determine the similarity of the London boroughs with regards to their top venues/amenities. This can be used to provide an indication as to the similarity of London boroughs and therefore inform resident re-location decision making.\n\nThe different sections to this notebook are as follows:\n\n* Problem Statement and background discussion\n\n* Description of the data"
        },
        {
            "attachments": {},
            "cell_type": "markdown",
            "metadata": {},
            "source": "### Problem Statement and background discussion\nRenting in London is expensive, fast-paced and often confusing. The rental market is challenging, primarily due to the fact that properties are advertised and let in such a short period of time. This makes it challenging for tenants and in many cases tenants have to make quick decisions on whether they would like to view a property.\n\nLondon is diverse, international and multicultural city with many different communities and neighbourhoods. Distinct differences can also be seen between the various boroughs in the city. Prior to 1985, the Greater London Council acted as a single administrative body for the London area. However after it was abolished in 1985, additional power was devolved to the London boroughs. As a result, the London boroughs have significant character variation and this can be evidenced in the number, spread and type of venues in each.\n\nFor individuals living in London and looking to change locale, the borough in which they live is an important feature. In many cases, knowledge of these boroughs is poor and individuals run the risk of moving to a borough where they are not satisfied with local ammenities and services.\n\nTherefore, the problem statement can be summed up as 'tenants in London lack knowledge of how other boroughs compare to the one in which they live, which makes re-locating across borough boundaries difficult'."
        },
        {
            "cell_type": "code",
            "execution_count": null,
            "metadata": {},
            "outputs": [],
            "source": ""
        }
    ],
    "metadata": {
        "kernelspec": {
            "display_name": "Python 3.6",
            "language": "python",
            "name": "python3"
        },
        "language_info": {
            "codemirror_mode": {
                "name": "ipython",
                "version": 3
            },
            "file_extension": ".py",
            "mimetype": "text/x-python",
            "name": "python",
            "nbconvert_exporter": "python",
            "pygments_lexer": "ipython3",
            "version": "3.6.9"
        }
    },
    "nbformat": 4,
    "nbformat_minor": 1
}